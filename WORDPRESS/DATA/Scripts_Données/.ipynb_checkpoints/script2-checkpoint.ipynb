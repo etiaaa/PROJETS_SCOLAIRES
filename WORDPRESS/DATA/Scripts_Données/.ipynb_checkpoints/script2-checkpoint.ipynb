{
 "cells": [
  {
   "cell_type": "code",
   "execution_count": null,
   "id": "3fd3bdf9-cc79-4623-9290-f74e774e5fb5",
   "metadata": {},
   "outputs": [],
   "source": [
    "#Import du fichier script1 et du module sqlite3 pour créer et insérez les données de notre tableau configurer précédemment (dans le script1).\n",
    "\n",
    "%run script1.ipynb\n",
    "import sqlite3"
   ]
  },
  {
   "cell_type": "code",
   "execution_count": 16,
   "id": "aa05c3fb-3724-4b8a-a8cc-fd75f76ffd52",
   "metadata": {},
   "outputs": [],
   "source": [
    "#Création d'une variable conn pour configurer une connexion à la base de données SQLite.\n",
    "conn = sqlite3.connect('script2.db')"
   ]
  },
  {
   "cell_type": "code",
   "execution_count": 17,
   "id": "7b5a82b2-9a8a-4e95-8826-31341fff5dd5",
   "metadata": {},
   "outputs": [],
   "source": [
    "# Création d'un curseur pour exécuter les requêtes SQL.\n",
    "c = conn.cursor()"
   ]
  },
  {
   "cell_type": "code",
   "execution_count": 18,
   "id": "669c4d57-eee0-41b0-9373-be47e97f498a",
   "metadata": {},
   "outputs": [],
   "source": [
    "# Création d'une table SQLite afin d'innsérer les données dans notre table.\n",
    "table_sql = \"Tableau\"\n",
    "for champs in tableau:\n",
    "  nom = champs[0]\n",
    "  prix = champs[1]\n",
    "  c.execute(\"INSERT INTO \" + table_sql + \" (nom, prix) VALUES (?, ?)\", (nom, prix))"
   ]
  },
  {
   "cell_type": "code",
   "execution_count": 19,
   "id": "14cbf2eb-4eac-458d-bb4e-3582e133e249",
   "metadata": {},
   "outputs": [],
   "source": [
    "# Confirmation de chaque insertion\n",
    "conn.commit()"
   ]
  },
  {
   "cell_type": "code",
   "execution_count": 20,
   "id": "ef43b381-969d-45d6-9eb7-67b8c48ee883",
   "metadata": {},
   "outputs": [
    {
     "name": "stdout",
     "output_type": "stream",
     "text": [
      "bon\n"
     ]
    }
   ],
   "source": [
    "# Fermeture de la connexion à la base de données.\n",
    "conn.close()\n",
    "\n",
    "#Si tout est correcte afficher le message suivant.\n",
    "print(\"Tout est bon\")"
   ]
  }
 ],
 "metadata": {
  "kernelspec": {
   "display_name": "Python 3 (ipykernel)",
   "language": "python",
   "name": "python3"
  },
  "language_info": {
   "codemirror_mode": {
    "name": "ipython",
    "version": 3
   },
   "file_extension": ".py",
   "mimetype": "text/x-python",
   "name": "python",
   "nbconvert_exporter": "python",
   "pygments_lexer": "ipython3",
   "version": "3.9.13"
  }
 },
 "nbformat": 4,
 "nbformat_minor": 5
}
