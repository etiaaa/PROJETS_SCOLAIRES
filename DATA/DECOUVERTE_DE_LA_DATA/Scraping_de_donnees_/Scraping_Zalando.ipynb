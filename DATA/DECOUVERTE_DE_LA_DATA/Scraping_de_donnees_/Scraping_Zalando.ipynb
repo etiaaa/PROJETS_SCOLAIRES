{
 "cells": [
  {
   "cell_type": "code",
   "execution_count": null,
   "id": "29b17b3d-0290-4b95-a9df-b9446af20311",
   "metadata": {},
   "outputs": [],
   "source": [
    "from time import sleep\n",
    "from selenium import webdriver\n",
    "from selenium.webdriver.chrome.options import Options"
   ]
  },
  {
   "cell_type": "code",
   "execution_count": null,
   "id": "7d8ccb9a-91c0-4757-8b28-0e78c694a5c3",
   "metadata": {},
   "outputs": [],
   "source": [
    "options = Options()\n",
    "# option execution en arrière plan\n",
    "options.headless = False\n",
    "options.add_argument(\"--window-size=1920,1200\")"
   ]
  },
  {
   "cell_type": "code",
   "execution_count": null,
   "id": "c0e9433d-1221-4dd1-b748-c2117141b5d3",
   "metadata": {},
   "outputs": [],
   "source": [
    "# initialisation du driver\n",
    "driver = webdriver.Chrome(options=options)\n",
    "driver.get(\"https://www.zalando.fr/catalogue/\")"
   ]
  },
  {
   "cell_type": "code",
   "execution_count": null,
   "id": "6c5ee507-7393-45f0-bd00-400dd728e1d3",
   "metadata": {},
   "outputs": [],
   "source": [
    "sleep(10)\n",
    "# liste contenant les adresses de toutes les pages, en commençant par celle de départ\n",
    "URL = [\"https://www.zalando.fr/catalogue/\"]\n",
    "Produit = []\n",
    "marque = []\n",
    "nom = []\n",
    "prix = []\n",
    "\n",
    "# liste contenant tout les produits (marques + \"chaussure verte\" par exemple)\n",
    "liste_produits = []\n",
    "# liste contenant les prix de tout les produits (incrementation synchronisée)\n",
    "liste_prix = []\n",
    "\n",
    "# accepter les cookies\n",
    "# driver.find_element_by_xpath(\"//*[@id='uc-btn-accept-banner']\").click()"
   ]
  },
  {
   "cell_type": "code",
   "execution_count": null,
   "id": "0cea88e0-7242-4bae-8729-84eb5438bd1e",
   "metadata": {},
   "outputs": [],
   "source": [
    "# ajout des adresses\n",
    "for i in range (2, 5):\n",
    "    URL.append(f\"https://www.zalando.fr/catalogue/?p={i}\")\n",
    "    \n",
    "for k in range (1, 85):\n",
    "    Produit.append(f\"//*[@id='main-content']/div/div/div[7]/div/div/div[2]/div[2]/div[{k}]/div/article/a\") "
   ]
  },
  {
   "cell_type": "code",
   "execution_count": null,
   "id": "62615020-7b84-4a81-9f2f-b5de15aafc64",
   "metadata": {},
   "outputs": [],
   "source": [
    "# boucle parcourant tous les lien dans URL\n",
    "for lien in URL:\n",
    "    # redirection au dit lien\n",
    "    driver.get(lien)\n",
    "    \n",
    "    for P in Produit:\n",
    "        print(P)\n",
    "        driver.find_element_by_xpath(P).click\n",
    "        \n",
    "        # variable contenant tous les produits de la page en cours\n",
    "        marque.append(driver.find_element_by_xpath(\"//*[@id='main-content']/div[1]/div/div/div[2]/x-wrapper-re-1-4/div/div[1]/a/span/h3\").text)\n",
    "        nom.append(driver.find_element_by_xpath(\"//*[@id='main-content']/div[1]/div/div/div[2]/x-wrapper-re-1-4/div/h1/span\").text)\n",
    "        prix.append(driver.find_element_by_xpath(\"//*[@id='main-content']/div[1]/div/div/div[2]/x-wrapper-re-1-4/div/div[2]/div/div[1]/div/p[1]\").text)\n",
    "        \n",
    "    "
   ]
  },
  {
   "cell_type": "code",
   "execution_count": null,
   "id": "b5d2289c-8ccc-4aaa-99b9-9efacc17a113",
   "metadata": {},
   "outputs": [],
   "source": [
    "\n",
    "for i in range (len(nom)):\n",
    "    print(\"marque: \",marque[i],\"\\nnom: \",nom[i],\"\\nprix: \",prix[i])"
   ]
  },
  {
   "cell_type": "code",
   "execution_count": null,
   "id": "88a72568-f5d4-4499-85ad-e33d7d7a37ac",
   "metadata": {},
   "outputs": [],
   "source": []
  }
 ],
 "metadata": {
  "kernelspec": {
   "display_name": "Python 3 (ipykernel)",
   "language": "python",
   "name": "python3"
  },
  "language_info": {
   "codemirror_mode": {
    "name": "ipython",
    "version": 3
   },
   "file_extension": ".py",
   "mimetype": "text/x-python",
   "name": "python",
   "nbconvert_exporter": "python",
   "pygments_lexer": "ipython3",
   "version": "3.11.2"
  }
 },
 "nbformat": 4,
 "nbformat_minor": 5
}
