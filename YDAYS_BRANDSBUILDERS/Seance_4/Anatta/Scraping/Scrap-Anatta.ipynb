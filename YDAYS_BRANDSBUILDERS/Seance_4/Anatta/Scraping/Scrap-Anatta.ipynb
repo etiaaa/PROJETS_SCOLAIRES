{
 "cells": [
  {
   "cell_type": "code",
   "execution_count": null,
   "metadata": {},
   "outputs": [],
   "source": [
    "#Import des modules nécessaires à savoir requests pour créer,utiliser et excécuter nos requêtes, selenium comme recommandé, time pour permettre le chargement des pages du site et sys pour pouvoir quitter le systeme de la boucle dès qu'indiquer. \n",
    "import requests\n",
    "from selenium import webdriver\n",
    "from selenium.webdriver.chrome.service import Service\n",
    "from selenium.webdriver.common.by import By\n",
    "from selenium.webdriver.common.action_chains import ActionChains\n",
    "from selenium.webdriver.common.keys import Keys\n",
    "import time\n",
    "import sys"
   ]
  },
  {
   "cell_type": "code",
   "execution_count": null,
   "metadata": {},
   "outputs": [],
   "source": [
    "#chemin complet vers chromedriver.exe\n",
    "path_to_chromedriver = './chromedriver-win32/chromedriver.exe'\n",
    "\n",
    "# Création d'une instance de Service en spécifiant le chemin du chromedriver\n",
    "chrome_service = Service(path_to_chromedriver)\n",
    "\n",
    "# Création du navigateur en utilisant l'instance de Service\n",
    "driver = webdriver.Chrome(service=chrome_service)\n",
    "\n",
    "# Naviguation vers l'URL souhaitée\n",
    "driver.get('https://anatta.ca/')"
   ]
  },
  {
   "cell_type": "code",
   "execution_count": null,
   "id": "7349b1a4",
   "metadata": {},
   "outputs": [],
   "source": [
    "# Recherche du nombre de rubriques de vêtements présentes sur la barre de navigation du site afin de connaître le nombre de pages à scraper:\n",
    "time.sleep(2)\n",
    "rubriques = driver.find_elements(By.XPATH, \"//div[@class='t4s-mb-tab__content is--active']//div[@class='shopify-section t4s-sp-section-mb-nav']//ul[@class='t4s-mb__menu']//li[@class='t4s-menu-item t4s-item-level-0']\")\n",
    "\n",
    "nb_pages = len(rubriques)  # Nombre de pages stocké dans la variable nb_pages\n",
    "print(\"Il y a actuellement \" + str(nb_pages) + \" catégories sur ce site. \\nLes voici :\")  # Affichage du nombre de pages présentes pour la catégorie sélectionnée\n",
    "\n",
    "# Nous avons la liste genres qui contiendra les différents genres de rubriques\n",
    "genres = []\n",
    "for collections in driver.find_elements(By.XPATH, \"//div[@class='t4s-mb-tab__content is--active']//div[@class='shopify-section t4s-sp-section-mb-nav']//ul[@class='t4s-mb__menu']//li[@class='t4s-menu-item t4s-item-level-0']\"):\n",
    "    genre = collections.find_element(By.TAG_NAME, 'a').get_attribute('href')\n",
    "    genres.append(genre)\n",
    "\n",
    "genres.pop(0)  # Supprimer le premier élément\n",
    "genres.pop(-2)\n",
    "genres.pop(-1)\n",
    "print(genres)  # Afficher le lien directement"
   ]
  },
  {
   "cell_type": "code",
   "execution_count": null,
   "metadata": {},
   "outputs": [],
   "source": [
    "produits = [] #Création du tableau où seront stocker les données.\n",
    "for page in genres: #Pour le nombre de pages présentes dans la catégorie\n",
    "    i = 1 #Initialisation d'une variable i qui sera incrémenter à chaque tour de la boucle afin d'accéder aux diverses produits présents.\n",
    "    datas = 0\n",
    "    driver.get(page)\n",
    "    \n",
    "    for data in range(500):  #Limitation des produits à afficher\n",
    "        try: #Essayer de...\n",
    "            #Récupérer les diverses données             \n",
    "            produit = driver.find_element(\"xpath\", f'/html/body/div[2]/main/section[2]/div/div/div/div/div[1]/div{[i]}/div/div[2]/div/h3/a').text            \n",
    "            prix = driver.find_element(\"xpath\", f'/html/body/div[2]/main/section[2]/div/div/div/div/div[1]/div{[i]}/div/div[2]/div/div[1]').text \n",
    "            \n",
    "            #time.sleep(3) #Simplement pour l'exécution, permettre un tant de chargement des images afin de les récupérer\n",
    "            image_element = driver.find_element(\"xpath\", f'/html/body/div[2]/main/section[2]/div/div/div/div/div[1]/div{[i]}/div/div[1]/div[1]/img[1]')\n",
    "            image_src = image_element.get_attribute('data-srcset')\n",
    "            \n",
    "            #Afficher les diverses données\n",
    "            print(produit)\n",
    "            print(prix)\n",
    "            print(image_src)\n",
    "            \n",
    "            #Stocker les diverses données dans la table\n",
    "            produits.append([produit, prix, image_src])\n",
    "\n",
    "            #Initialisation du scroll vers le bas à l'aide de la bibliothèque ActionsChains qui simule la touche d'appui vers le bas\n",
    "            actions = ActionChains(driver)\n",
    "            for scroll in range(5):  #Initialiser le nombre d'appui\n",
    "                actions.send_keys(Keys.ARROW_DOWN)  # Utiliser la touche fléchée vers le bas\n",
    "                actions.perform()\n",
    "            \n",
    "            try: #Essayer de...\n",
    "                #Fermer la fenetre de publicité si elle active pour pouvoir accéder aux produits\n",
    "                close_ad_button = driver.find_element(By.CLASS_NAME, 't4smfp-icon-close')\n",
    "                close_ad_button.click()\n",
    "            except Exception: #Si ça ne marches pas\n",
    "                pass  # Ignorer et continuer \n",
    "\n",
    "            \n",
    "            try: #Essayer de...\n",
    "                #Charger plus d'éléments en cliquant sur le bouton \"Voir plus\"\n",
    "                load= driver.find_element(\"xpath\", f'/html/body/div[2]/main/section[2]/div/div/div/div/div[2]/div/a')\n",
    "                load.click()\n",
    "            except Exception: #Si ça ne fonctionnes pas\n",
    "                pass #Ignorer et continuer\n",
    "\n",
    "        except Exception: #Si l'essaye échoue..\n",
    "            break  #Sortir de la boucle et passer à autre chose\n",
    "        i += 1 #On incrémente pour passer à l'indice suivant\n",
    "        datas += 1 #On incrémente pour dire qu'une donnée supplémentaire vient d'etre collecter\n",
    "    print(str(datas) + \" données viennent d'être collectées.\")\n",
    "    time.sleep(3)\n",
    "\n",
    "print(\"Actuellement, \" + str(len(produits)) + \" données ont pu être récupérées.\")  #Afficher le nombre d'élément présente dans la liste"
   ]
  },
  {
   "cell_type": "code",
   "execution_count": null,
   "metadata": {},
   "outputs": [],
   "source": [
    "# Utilisation de join pour séparer par des points-virgules\n",
    "resultat = \";\".join([\";\".join(map(str, element)) for element in produits]) #Séparer les données récupérées par des \";\" afin de pouvoir récupérer les données, les stocker dans une table CSV et les importer dans une base de données\n",
    "print(resultat) # Affichage du résultat\n",
    "\n",
    "driver.quit() # Fermer le navigateur "
   ]
  }
 ],
 "metadata": {
  "kernelspec": {
   "display_name": "Python 3 (ipykernel)",
   "language": "python",
   "name": "python3"
  },
  "language_info": {
   "codemirror_mode": {
    "name": "ipython",
    "version": 3
   },
   "file_extension": ".py",
   "mimetype": "text/x-python",
   "name": "python",
   "nbconvert_exporter": "python",
   "pygments_lexer": "ipython3",
   "version": "3.12.0"
  }
 },
 "nbformat": 4,
 "nbformat_minor": 5
}
