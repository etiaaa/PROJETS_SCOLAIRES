{
 "cells": [
  {
   "cell_type": "code",
   "execution_count": null,
   "metadata": {},
   "outputs": [],
   "source": [
    "#Import des modules nécessaires à savoir requests pour créer,utiliser et excécuter nos requêtes, selenium comme recommandé, time pour permettre le chargement des pages du site et sys pour pouvoir quitter le systeme de la boucle dès qu'indiquer. \n",
    "import requests\n",
    "from selenium import webdriver\n",
    "from selenium.webdriver.chrome.service import Service\n",
    "from selenium.webdriver.common.by import By\n",
    "import time\n",
    "import sys"
   ]
  },
  {
   "cell_type": "code",
   "execution_count": null,
   "metadata": {},
   "outputs": [],
   "source": [
    "#chemin complet vers chromedriver.exe\n",
    "path_to_chromedriver = './chromedriver-win32/chromedriver.exe'\n",
    "\n",
    "# Création d'une instance de Service en spécifiant le chemin du chromedriver\n",
    "chrome_service = Service(path_to_chromedriver)\n",
    "\n",
    "# Création du navigateur en utilisant l'instance de Service\n",
    "driver = webdriver.Chrome(service=chrome_service)\n",
    "\n",
    "# Naviguation vers l'URL souhaitée\n",
    "driver.get('https://kidoriman.com/')\n"
   ]
  },
  {
   "cell_type": "code",
   "execution_count": null,
   "id": "7349b1a4",
   "metadata": {},
   "outputs": [],
   "source": [
    "#Recherche du nombre de rubriques de vêtements présentes sur la barre de navigation du site afin de connaître le nombre de pages à scrapper:\n",
    "rubriques = driver.find_elements(By.XPATH, \"//nav[@class='menu-drawer__navigation']//ul[@class='menu-drawer__menu list-menu']//a[@class='menu-drawer__menu-item list-menu__itemfocus-inset']\")\n",
    "\n",
    "nb_pages = len(rubriques) #Nombre de pages stocker dans la variable nb_pages\n",
    "print(\"Il y'a actuellement \" + str(nb_pages) + \" catégories sur ce site. \\nLes voicis:\") #Affichage du nombre de pages présentes pour la catégorie séléctionner\n",
    "\n",
    "#Nous avons la liste genres qui contiendras les différents genres de rubriques et i qui représente l'indice à incrémenter pour accéder aux diverses éléments de la barre de navigation\n",
    "genres, i  = [], 1 \n",
    "for pages in range(nb_pages):\n",
    "    #Nous avons la variage collections qui correspond aux catégories de rubriques préssentes\n",
    "    collections = driver.find_element(\"xpath\", f'/html/body/div[1]/div[2]/header-wrapper/header/div[1]/header-drawer/details/div/div/div/nav/ul/li[{i}]/a')\n",
    "    genre = collections.get_attribute('href') #On recupere le lien des pages que l'ont ajoutes à la catégorie genre\n",
    "    genres.append(genre)\n",
    "    i += 1  # Assurez-vous d'incrémenter la valeur de 'i' pour chaque itération\n",
    "print(genres)\n"
   ]
  },
  {
   "cell_type": "code",
   "execution_count": null,
   "metadata": {},
   "outputs": [],
   "source": [
    "produits = [] #Création du tableau où seront stocker les données."
   ]
  },
  {
   "cell_type": "code",
   "execution_count": null,
   "metadata": {},
   "outputs": [],
   "source": [
    "for page in genres: #Pour le nombre de pages présentes dans la catégorie\n",
    "    i = 1 #Initialisation d'une variable i qui sera incrémenter à chaque tour de la boucle afin d'accéder aux diverses produits présents.\n",
    "    driver.get(page)\n",
    "    # time.sleep(3) #Attente de 3 sec permettant le bon chargement de la page\n",
    "    for data in range(1500):  #Limitation des produits à afficher\n",
    "        try: #Essayer de...\n",
    "            #Récupérer les diverses données\n",
    "            categorie = driver.find_element(\"xpath\", f'/html/body/div[2]/div[3]/main/section[1]/div/div/div/div/h1').text \n",
    "            produit = driver.find_element(\"xpath\", f'/html/body/div[2]/div[3]/main/section[2]/div/div/div[2]/div/ul/li{[i]}/div/div[1]/div[1]/a').text            \n",
    "            prix = driver.find_element(\"xpath\", f'/html/body/div[2]/div[3]/main/section[2]/div/div/div[2]/div/ul/li{[i]}/div/div[1]/div[1]/div[2]/dl/div[2]/dd[2]/span/price-money/bdi/span').text \n",
    "            image_element = driver.find_element(\"xpath\", f'/html/body/div[2]/div[3]/main/section[2]/div/div/div[2]/div/ul/li{[i]}/div/use-animate/a/div/img')\n",
    "            image_src = image_element.get_attribute('src')\n",
    "            \n",
    "            #Afficher les diverses données\n",
    "            print(categorie)\n",
    "            print(produit)\n",
    "            print(prix)\n",
    "            print(image_src)\n",
    "            \n",
    "            #Stocker les diverses données dans la table\n",
    "            produits.append([categorie, produit, prix, image_src])\n",
    "        \n",
    "        except Exception: #Si l'essaye échoue..\n",
    "            break  \n",
    "\n",
    "print(\"Actuellement, \" + str(len(produits)) + \" données ont pu être récupérées.\")  #Afficher le nombre d'élément présente dans la liste"
   ]
  },
  {
   "cell_type": "code",
   "execution_count": null,
   "metadata": {},
   "outputs": [],
   "source": [
    "# Utilisation de join pour séparer par des points-virgules\n",
    "resultat = \";\".join([\";\".join(map(str, element)) for element in produits]) #Séparer les données récupérées par des \";\" afin de pouvoir récupérer les données, les stocker dans une table CSV et les importer dans une base de données\n",
    "print(resultat) # Affichage du résultat\n",
    "\n",
    "driver.quit() # Fermer le navigateur "
   ]
  }
 ],
 "metadata": {
  "kernelspec": {
   "display_name": "Python 3 (ipykernel)",
   "language": "python",
   "name": "python3"
  },
  "language_info": {
   "codemirror_mode": {
    "name": "ipython",
    "version": 3
   },
   "file_extension": ".py",
   "mimetype": "text/x-python",
   "name": "python",
   "nbconvert_exporter": "python",
   "pygments_lexer": "ipython3",
   "version": "3.12.0"
  }
 },
 "nbformat": 4,
 "nbformat_minor": 5
}
