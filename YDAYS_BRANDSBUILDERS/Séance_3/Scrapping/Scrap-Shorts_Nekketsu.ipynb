{
 "cells": [
  {
   "cell_type": "code",
   "execution_count": null,
   "id": "17d38b70",
   "metadata": {},
   "outputs": [],
   "source": [
    "#Import des modules nécessaires à savoir requests pour créer,utiliser et excécuter nos requêtes et selenium comme recommander. \n",
    "import requests\n",
    "from selenium import webdriver\n",
    "from selenium.webdriver.chrome.service import Service\n",
    "import time\n"
   ]
  },
  {
   "cell_type": "code",
   "execution_count": null,
   "id": "c692b79a",
   "metadata": {},
   "outputs": [],
   "source": [
    "# Spécifiez le chemin complet vers chromedriver.exe\n",
    "path_to_chromedriver = './chromedriver-win32/chromedriver.exe'\n",
    "\n",
    "# Créez une instance de Service en spécifiant le chemin du chromedriver\n",
    "chrome_service = Service(path_to_chromedriver)\n",
    "\n",
    "# Créez le navigateur en utilisant l'instance de Service\n",
    "driver = webdriver.Chrome(service=chrome_service)\n",
    "\n",
    "# Naviguez vers l'URL souhaitée\n",
    "driver.get('https://nekketsu.store/collections/short-cargo')\n"
   ]
  },
  {
   "cell_type": "code",
   "execution_count": null,
   "metadata": {},
   "outputs": [],
   "source": [
    "shorts = [] #Création du tableau où seront stocker les données."
   ]
  },
  {
   "cell_type": "code",
   "execution_count": null,
   "metadata": {},
   "outputs": [],
   "source": [
    "o = 1 #Initialisation d'une variable i qui sera incrémenter à chaque tour de la boucle afin de modifier les liens et accéder aux différents produits.\n",
    "\n",
    "time.sleep(5)\n",
    "for data in range(1,1000):  # limitation des produits à afficher\n",
    "    try:\n",
    "        categorie = driver.find_element(\"xpath\", f'/html/body/div[4]/div/div[2]/div[1]/h1').text \n",
    "        nom = driver.find_element(\"xpath\", f'/html/body/div[4]/div[3]/div[4]/div[1]/div/div[1]/div{[o]}/div/a/div/h2').text\n",
    "        prix = driver.find_element(\"xpath\", f'/html/body/div[4]/div[3]/div[4]/div[1]/div/div[1]/div{[o]}/div/a/div/span/span').text                                           \n",
    "        image = driver.find_element(\"xpath\", f'/html/body/div[4]/div[3]/div[4]/div[1]/div/div[1]/div{[o]}/div/div/a/div/div/img').text\n",
    "        \n",
    "        print(categorie)\n",
    "        print(nom)\n",
    "        print(prix)\n",
    "        print(image)\n",
    "        \n",
    "        shorts.append([categorie, nom, prix, image])\n",
    "\n",
    "    except:\n",
    "        print(\"Bravo, toutes les données ont été scrappées\")\n",
    "        break  \n",
    "    o += 1\n",
    "\n",
    "print(len(shorts))"
   ]
  },
  {
   "cell_type": "code",
   "execution_count": null,
   "metadata": {},
   "outputs": [],
   "source": [
    "# Utilisation de join pour séparer par des points-virgules\n",
    "resultat = \";\".join([\";\".join(map(str, element)) for element in shorts])\n",
    "\n",
    "# Affichage du résultat\n",
    "print(resultat)"
   ]
  }
 ],
 "metadata": {
  "kernelspec": {
   "display_name": "Python 3 (ipykernel)",
   "language": "python",
   "name": "python3"
  },
  "language_info": {
   "codemirror_mode": {
    "name": "ipython",
    "version": 3
   },
   "file_extension": ".py",
   "mimetype": "text/x-python",
   "name": "python",
   "nbconvert_exporter": "python",
   "pygments_lexer": "ipython3",
   "version": "3.12.0"
  }
 },
 "nbformat": 4,
 "nbformat_minor": 5
}
