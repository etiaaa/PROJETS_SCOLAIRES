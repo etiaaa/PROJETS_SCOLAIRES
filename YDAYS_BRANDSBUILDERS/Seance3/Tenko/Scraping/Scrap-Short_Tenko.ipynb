{
 "cells": [
  {
   "cell_type": "code",
   "execution_count": null,
   "id": "17d38b70",
   "metadata": {},
   "outputs": [],
   "source": [
    "#Import des modules nécessaires à savoir requests pour créer,utiliser et excécuter nos requêtes, selenium comme recommandé, time pour permettre le chargement des pages du site et sys pour pouvoir quitter le systeme de la boucle dès qu'indiquer. \n",
    "import requests\n",
    "from selenium import webdriver\n",
    "from selenium.webdriver.chrome.service import Service\n",
    "from selenium.webdriver.common.by import By\n",
    "import time\n",
    "import sys"
   ]
  },
  {
   "cell_type": "code",
   "execution_count": null,
   "id": "c692b79a",
   "metadata": {},
   "outputs": [],
   "source": [
    "#chemin complet vers chromedriver.exe\n",
    "path_to_chromedriver = '../ChromeDriver-Win32/chromedriver-win32/chromedriver.exe'\n",
    "\n",
    "# Création d'une instance de Service en spécifiant le chemin du chromedriver\n",
    "chrome_service = Service(path_to_chromedriver)\n",
    "\n",
    "# Création du navigateur en utilisant l'instance de Service\n",
    "driver = webdriver.Chrome(service=chrome_service)\n",
    "\n",
    "# Naviguation vers l'URL souhaitée\n",
    "driver.get('https://tenko.fr/collections/short-japonais')\n"
   ]
  },
  {
   "cell_type": "code",
   "execution_count": null,
   "metadata": {},
   "outputs": [],
   "source": [
    "#Recherche du nombre de page suivante en accédant à la classe \"page\"\n",
    "page_suivante = driver.find_elements(By.XPATH, \"//div[@class='pagination']//span[@class='page']\")\n",
    "\n",
    "nb_pages = len(page_suivante) #Nombre d'éléments stocker dans la variable nb_pages\n",
    "print(\"Nombre de pages dans la catégorie : \" + str(nb_pages + 1)) #Affichage du nombre de pages présentes pour la catégorie séléctionner"
   ]
  },
  {
   "cell_type": "code",
   "execution_count": null,
   "metadata": {},
   "outputs": [],
   "source": [
    "produits = [] #Création du tableau où seront stocker les données."
   ]
  },
  {
   "cell_type": "code",
   "execution_count": null,
   "metadata": {},
   "outputs": [],
   "source": [
    "j = 2 #Initialisation d'une variable j qui sera incrémenter à chaque tour de la boucle afin de modifier les liens des pages et accéder aux produits.\n",
    "for page in range(nb_pages+1): #Pour le nombre de pages présentes dans la catégorie\n",
    "    i = 1 #Initialisation d'une variable i qui sera incrémenter à chaque tour de la boucle afin d'accéder aux diverses produits présents.\n",
    "    print(\"Page \" + str(j-1) + \":\") #Affichage de la page en cours de scrapping\n",
    "    time.sleep(3) #Attente de 3 sec permettant le bon chargement de la page\n",
    "    for data in range(300):  #Limitation des produits à afficher\n",
    "        try: #Essayer de...\n",
    "            #Récupérer les diverses données\n",
    "            categorie = driver.find_element(\"xpath\", f'/html/body/div[2]/div/main/div[1]/div[1]/header/h1').text \n",
    "            produit = driver.find_element(\"xpath\", f'/html/body/div[2]/div/main/div[2]/div/div/div/div/div[2]/div[1]/div/div[1]/div[2]/div{[i]}/div[1]/div/a/div/div[1]').text            \n",
    "            prix = driver.find_element(\"xpath\", f'/html/body/div[2]/div/main/div[2]/div/div/div/div/div[2]/div[1]/div/div[1]/div[2]/div{[i]}/div[1]/div/a/div/div[2]').text \n",
    "            image_element = driver.find_element(\"xpath\", f'/html/body/div[2]/div/main/div[2]/div/div/div/div/div[2]/div[1]/div/div[1]/div[2]/div[{i}]/div[1]/div/div/div/image-element/img')\n",
    "            image_src = image_element.get_attribute('src')\n",
    "            \n",
    "            #Afficher les diverses données\n",
    "            print(categorie)\n",
    "            print(produit)\n",
    "            print(prix)\n",
    "            print(image_src)\n",
    "            \n",
    "            #Stocker les diverses données dans la table\n",
    "            produits.append([categorie, produit, prix, image_src])\n",
    "        \n",
    "        except Exception: #Si l'essaye échoue..\n",
    "            pass #Ne plus rien faire\n",
    "        #Incrémenter l'indice i de 1 sauf s'il a déja atteint une valeur de 20 (en effet sur ce site une page ne peut contenir que 20 produits)\n",
    "        i += 1\n",
    "        if i > 20:\n",
    "            break  # Sort de la boucle interne si i dépasse 20\n",
    "    \n",
    "    \n",
    "    try: #Essayer de...\n",
    "        suivant = driver.get(f'https://tenko.fr/collections/short-japonais?page={j}') #Passer à la page suivante\n",
    "    except: #Si cela ne fonctionne pas\n",
    "        print(\"Toutes les pages ont été scrappé\") #Afficher ceci\n",
    "        sys.exit() #Et sortir du système de la boucle pour réduire les itérations supplémentaires\n",
    "    j += 1 #Incrémenter l'indice j pour passer à la page suivante au prochain tour\n",
    "\n",
    "\n",
    "print(\"Actuellement, \" + str(len(produits)) + \" données ont pu être récupérées.\")  #Afficher le nombre d'élément présente dans la liste"
   ]
  },
  {
   "cell_type": "code",
   "execution_count": null,
   "metadata": {},
   "outputs": [],
   "source": [
    "# Utilisation de join pour séparer par des points-virgules\n",
    "resultat = \";\".join([\";\".join(map(str, element)) for element in produits]) #Séparer les données récupérées par des \";\" afin de pouvoir récupérer les données, les stocker dans une table CSV et les importer dans une base de données\n",
    "print(resultat) # Affichage du résultat\n",
    "\n",
    "driver.quit() # Fermer le navigateur "
   ]
  }
 ],
 "metadata": {
  "kernelspec": {
   "display_name": "Python 3 (ipykernel)",
   "language": "python",
   "name": "python3"
  },
  "language_info": {
   "codemirror_mode": {
    "name": "ipython",
    "version": 3
   },
   "file_extension": ".py",
   "mimetype": "text/x-python",
   "name": "python",
   "nbconvert_exporter": "python",
   "pygments_lexer": "ipython3",
   "version": "3.12.0"
  }
 },
 "nbformat": 4,
 "nbformat_minor": 5
}
