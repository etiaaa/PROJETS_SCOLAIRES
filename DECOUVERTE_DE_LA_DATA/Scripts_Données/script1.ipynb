{
 "cells": [
  {
   "cell_type": "code",
   "execution_count": null,
   "id": "f372e207-349d-492b-bc00-9ed7bfcb84ce",
   "metadata": {
    "tags": []
   },
   "outputs": [],
   "source": [
    "#Import des modules nécessaires à savoir requests pour créer,utiliser et excécuter nos requêtes et selenium comme recommander. \n",
    "\n",
    "import requests\n",
    "from selenium import webdriver\n",
    "from selenium.webdriver.chrome.options import Options\n"
   ]
  },
  {
   "cell_type": "code",
   "execution_count": null,
   "id": "8cab98c9-d2f0-4944-8657-e4c27fccba62",
   "metadata": {},
   "outputs": [],
   "source": [
    "#Création d'une variable \"url\" qui stock le lien du site à scrapper.\n",
    "\n",
    "url = 'https://www.zalando.fr/mode-femme/'"
   ]
  },
  {
   "cell_type": "code",
   "execution_count": null,
   "id": "17f5b4bb-38a3-40df-a974-f529c757f26c",
   "metadata": {},
   "outputs": [],
   "source": [
    "#Création d'une variable \"driver\" qui permet d'ouvrir le lien du site dans une nouvelle fenêtre.\n",
    "\n",
    "driver = webdriver.Chrome(\"chromedriver.exe\")\n",
    "driver.get(url)"
   ]
  },
  {
   "cell_type": "code",
   "execution_count": null,
   "id": "6b311225-e1a7-4c93-b5cc-9ac8abf1885b",
   "metadata": {},
   "outputs": [],
   "source": [
    "#Création du tableau où seront stocker les données.\n",
    "\n",
    "tableau = []\n",
    "\n",
    "#Création d'une variable \"produits\" qui stockera tous les éléments des nouveaux vêtements. \n",
    "\n",
    "produits = driver.find_elements(\"xpath\",'//*[@id=\"main-content\"]/div/div/div[7]/div/div/div[1]/div')"
   ]
  },
  {
   "cell_type": "code",
   "execution_count": null,
   "id": "df980026-7ead-4c3a-a017-5c5f2b7c8b26",
   "metadata": {},
   "outputs": [],
   "source": [
    "#Création d'une boucle qui récupèrera les noms et les produits des vêtements nouveaux. \n",
    "\n",
    "i=1 #Initialisation d'une variable i qui sera incrémenter à chaque tour de la boucle afin de modifier les liens et accéder aux différents produits.\n",
    "for j in range(90): #limitation des produits à afficher \n",
    "    try:\n",
    "        nom = driver.find_element(\"xpath\",f'//*[@id=\"main-content\"]/div/div/div[7]/div/div/div[1]/div[2]/div[{i}]/div/article/div[4]/a/header/div/h3[2]').text\n",
    "        prix = driver.find_element(\"xpath\",f'//*[@id=\"main-content\"]/div/div/div[7]/div/div/div[1]/div[2]/div[{i}]/div/article/div[4]/a/header/section/p[1]/span').text\n",
    "        print(nom)\n",
    "        print(prix)\n",
    "        tableau.append([nom, prix])\n",
    "    except:\n",
    "        print(\"Donnée Manquante\")\n",
    "    i+=1"
   ]
  },
  {
   "cell_type": "code",
   "execution_count": null,
   "id": "65ef1fd4-be07-443b-a5e4-ab9e14c768af",
   "metadata": {},
   "outputs": [],
   "source": [
    "#Affichage du tableau avec toutes les données stocker.   \n",
    "print(tableau)"
   ]
  }
 ],
 "metadata": {
  "kernelspec": {
   "display_name": "Python 3 (ipykernel)",
   "language": "python",
   "name": "python3"
  },
  "language_info": {
   "codemirror_mode": {
    "name": "ipython",
    "version": 3
   },
   "file_extension": ".py",
   "mimetype": "text/x-python",
   "name": "python",
   "nbconvert_exporter": "python",
   "pygments_lexer": "ipython3",
   "version": "3.9.13"
  }
 },
 "nbformat": 4,
 "nbformat_minor": 5
}
