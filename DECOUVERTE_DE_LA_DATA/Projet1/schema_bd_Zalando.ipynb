{
 "cells": [
  {
   "cell_type": "code",
   "execution_count": null,
   "id": "93a2c7df-5130-4167-abae-2b1823b8e401",
   "metadata": {},
   "outputs": [],
   "source": [
    "# library\n",
    "import numpy as np\n",
    "import pandas as pd\n",
    "import matplotlib.pyplot as plt\n",
    "import csv"
   ]
  },
  {
   "cell_type": "code",
   "execution_count": null,
   "id": "6340adec-8479-4fd1-97cd-a1e703f08d12",
   "metadata": {},
   "outputs": [],
   "source": [
    "data = pd.read_csv('Zalando2.csv')"
   ]
  },
  {
   "cell_type": "code",
   "execution_count": null,
   "id": "a54cbd74-9d9c-4528-ae61-b8921e63d28a",
   "metadata": {},
   "outputs": [],
   "source": [
    "marques = []\n",
    "nb_produit = []\n",
    "nb = 0"
   ]
  },
  {
   "cell_type": "code",
   "execution_count": null,
   "id": "492bccdd-a28c-404b-a2d4-9c57b5eb597a",
   "metadata": {},
   "outputs": [],
   "source": [
    "with open('Zalando 2.csv', newline='') as csvfile:\n",
    "    spamreader = csv.reader(csvfile, delimiter=';', quotechar='|')\n",
    "    nb = 1\n",
    "    i = 0\n",
    "    for row in spamreader:\n",
    "        print(row)\n",
    "        if len(marques) == 0: \n",
    "            marques.append(row)\n",
    "        elif marques[i] != row:\n",
    "            print(\"pas copie\")\n",
    "            marques.append(row)\n",
    "            nb_produit.append(nb)\n",
    "            nb=0\n",
    "        else:\n",
    "            print(\"copie\")\n",
    "            nb += 1\n",
    "        i += 1\n"
   ]
  },
  {
   "cell_type": "code",
   "execution_count": null,
   "id": "4bf87bdb-04fd-4543-bb32-f0c5ed86b78f",
   "metadata": {},
   "outputs": [],
   "source": [
    "print(marques)"
   ]
  },
  {
   "cell_type": "code",
   "execution_count": null,
   "id": "b567ba9d-8f4b-4d32-b481-fdfb9300e58f",
   "metadata": {},
   "outputs": [],
   "source": [
    "# create data: an array of values\n",
    "size_of_groups = [62, 22, 30, 32, 22]\n",
    "bars = ['Georgio Di Mare', 'Quicksilver', 'Champion', 'DeFacto', 'MAISON MONTAGUT'] \n",
    "y_pos = np.arange(len(bars))"
   ]
  },
  {
   "cell_type": "code",
   "execution_count": null,
   "id": "64524672-f2f0-45d5-a70f-2feb0f6dc6a9",
   "metadata": {},
   "outputs": [],
   "source": [
    "# Create horizontal bars\n",
    "plt.barh(y_pos, size_of_groups)\n",
    " \n",
    "# Create names on the x-axis\n",
    "plt.yticks(y_pos, bars)"
   ]
  },
  {
   "cell_type": "code",
   "execution_count": null,
   "id": "2aeaf904-571a-4fb8-a816-99d4b246dc43",
   "metadata": {},
   "outputs": [],
   "source": [
    "plt.show"
   ]
  },
  {
   "cell_type": "code",
   "execution_count": null,
   "id": "39e7eb03-1023-42ad-be91-37643df40578",
   "metadata": {},
   "outputs": [],
   "source": [
    "# create data: an array of values\n",
    "size_of_groups = [2,4,8,4,4,2,2,4,6,2,16,8,2,16,16,4,2,4,2,2,2,2,2,6,2,4,4,2,30,2,4,2,4,2,2,2,32,6,2,8,2,2,10,18,8,18,4,2,2,6,2,2,24,2,2,4,4,10,4,2,4,62,18,4,2,2,2,2,6,4,10,4,2,10,6,4,2,12,2,6,2,2,2,12,2,2,4,2,22,6,2,4,4,2,4,2,4,14,6,2,4,4,2,2,2,4,4,6,2,2,18,4,4,2,2,6,12,2,2,2,2,6,8,2,2,4,4,4,2,4,12,22,2,2,16,4,2,2,10,10,2,4,6,2,8,4,6,2,2,2,4,2,14,4,2,4,10,2,2,2,2,2,2,2,18,12,16,10,2,14,2,2,6,6,12,2,12,6,4,2,12,1]\n",
    "bars = ['7 for all mankind', 'adidas Originals', 'adidas Performance', 'Akitsune', 'ALDO', 'America Today', 'Anaya with love', 'Apple', 'ARMEDANGELS', 'ASICS SportStyle', 'BDG Urban Outfitters', 'BecksÃ¶ndergaard', 'Belstaff', 'Bershka', 'Betty Barclay', 'Billabong', 'Bimba Y Lola', 'Bisgaard', 'BITE Studios', 'BOSS', 'Bree', 'Brooks Brothers', 'Bruno Banani', 'C&A', 'Cabaia', 'CALLI', 'Calvin Klein Jeans', 'Carlo Colucci', 'Champion', 'CHASIN', 'Claudie Pierlot', 'CMP', 'Coach', 'Coccinelle', 'Columbia', 'Danish Endurance', 'DeFacto', 'Desigual', 'Diadora', 'Diesel', 'DKNY', 'DRYKORN', 'EDITED', 'Element', 'Ellos Collection', 'Etam', 'Even&Odd Tall', 'F4NT4STIC', 'Far Afield', 'Fila', 'Fiorucci', 'Freaky Nation', 'Froddo', 'Furla', 'GANT', 'Gap Tall', 'Geox', 'Gerry Weber', 'erry Weber Edition', 'Gina Tricot Petite', 'Gina Tricot Tall', 'Giorigio Di Mare', 'Guess', 'Halfinger', 'happy girls', 'iceberg', 'IN THE STYLE', 'Isaac Dewhirst', 'Jack & Jones', 'Jack & Jones Junior', 'JDY', 'Johnny Urban', 'JOOP!', 'Kaffe Curve', 'KARL LAGERFIELD', 'Kazar Studio', 'Key Largo', 'Kurt Geiger London', 'Lauren Raplh Lauren', 'le coq sportif', 'Legero', 'Lil Atelier', 'Lindex', 'Living KitzbÃ¼hel', 'LO NEEL', 'loud +proud', 'Lowa', 'MAISON MONTAGUT', 'Mamino', 'MANAS', 'Maniita Lacitta', 'Marc Cain', 'Marc Opolo', 'Market', 'Marks & Spencer', 'MASA MARA', 'Massimo Dutti', 'Maya Deluxe', 'Mayoral', 'Melvin & Hamilton', 'Mila Louise', 'Minimum', 'MINOTI', 'MISAKO', 'Monki', 'MOSCHINO', 'Moves', 'MS Mode', 'MUNTHE', 'Name it', 'Napapijri', 'Neil Barrett', 'Never Fully Dressed Petite', 'New Look', 'Nicki Studios', 'Nike Performance', 'Nike Sportswear', 'Nixon', 'No Name', 'Obey Clothing', 'ONeil', 'Only & Sons', 'ONLY Carmakoma', 'ONLY Tall', 'Paul Costelloe', 'Pavement', 'Pieces', 'Pieces Maternity', 'Polo Ralph Lauren', 'Puma', 'Quicksilver', 'Re.draft', 'Redskins', 'Reebok', 'Reebok Classic', 'Regatta', 'Reusch', 'River Island', 'Roxy', 'Samoon', 'Save the duck', 'Scotch & Soda', 'See by Chloé', 'Selected Femme', 'Shiwi', 'SIKSILK', 'Sir Raymond Tailor', 'SOLE Made in Italy', 'Solid Homme', 'Sportmax', 'Stella McCartney Kids', 'Steve Madden', 'Stradivarius', 'Studio Untold', 'Super Mode', 'Superdry', 'Taifun', 'THE FATED', 'The North Face', 'TOM TAILOR', 'Tommy Hilfiger', 'Tommy Jeans', 'TREBIUS VALENS', 'Tutu', 'Ulla Popken', 'Vans', 'Vero Moda', 'Vero Moda Petite', 'Vero Moda Tall', 'Victoria Beckham', 'Victoria Hyde', 'Von Dutch', 'WAXX', 'WE Fashion', 'WEEKEND MacMara', 'Wet Brush', 'YAS', 'YAS Petite', 'YAS Tall', 'zero', 'ZOÃ‹ AYLA'] \n",
    "y_pos = np.arange(len(bars))"
   ]
  },
  {
   "cell_type": "code",
   "execution_count": null,
   "id": "19ebf751-98c5-4dcf-b3bb-8a5558816e66",
   "metadata": {},
   "outputs": [],
   "source": [
    "plt.pie(size_of_groups)\n",
    "plt.show()"
   ]
  }
 ],
 "metadata": {
  "kernelspec": {
   "display_name": "Python 3 (ipykernel)",
   "language": "python",
   "name": "python3"
  },
  "language_info": {
   "codemirror_mode": {
    "name": "ipython",
    "version": 3
   },
   "file_extension": ".py",
   "mimetype": "text/x-python",
   "name": "python",
   "nbconvert_exporter": "python",
   "pygments_lexer": "ipython3",
   "version": "3.9.13"
  }
 },
 "nbformat": 4,
 "nbformat_minor": 5
}
