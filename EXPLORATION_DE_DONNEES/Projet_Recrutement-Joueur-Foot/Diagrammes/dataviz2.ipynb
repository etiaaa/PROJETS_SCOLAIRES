{
 "cells": [
  {
   "cell_type": "markdown",
   "id": "9da67d83",
   "metadata": {},
   "source": [
    "# Importation des bibliothèques"
   ]
  },
  {
   "cell_type": "code",
   "execution_count": null,
   "id": "bd0e1348",
   "metadata": {},
   "outputs": [],
   "source": [
    "# Importation de la bibliothèque pandas pour la manipulation de données\n",
    "import pandas as pd\n",
    "\n",
    "# Importation de la bibliothèque matplotlib.pyplot pour la création de graphiques\n",
    "import matplotlib.pyplot as plt\n",
    "\n",
    "# Importation de la bibliothèque seaborn pour rendre les graphiques plus esthétiques\n",
    "import seaborn as sns\n",
    "\n",
    "# Importation de la bibliothèque numpy pour des opérations mathématiques avancées\n",
    "import numpy as np"
   ]
  },
  {
   "cell_type": "markdown",
   "id": "b7056e0d",
   "metadata": {},
   "source": [
    "# Importation des données\n"
   ]
  },
  {
   "cell_type": "code",
   "execution_count": null,
   "id": "48d0a870",
   "metadata": {},
   "outputs": [],
   "source": [
    "# Chargement des données depuis le fichier Excel \n",
    "dataset = pd.read_excel(\"../DataSet/data_fifa_clean.xlsx\")"
   ]
  },
  {
   "cell_type": "code",
   "execution_count": null,
   "id": "dd41f975",
   "metadata": {},
   "outputs": [],
   "source": [
    "# Lecture du dataset\n",
    "dataset"
   ]
  },
  {
   "cell_type": "code",
   "execution_count": null,
   "id": "03878565",
   "metadata": {},
   "outputs": [],
   "source": [
    "# Répartition des joueurs par groupes de postes:\n",
    "\n",
    "# Calcul de l'effectif des joueurs par groupe de postes et tri par ordre décroissant\n",
    "Occurences_joueurs_par_poste = dataset[\"GroupPositions\"].value_counts().sort_values(ascending=False)\n",
    "\n",
    "# Création du graphique de distribution à barres horizontales en utilisant Seaborn pour visualiser les données\n",
    "sns.barplot(x=Occurences_joueurs_par_poste.index, y=Occurences_joueurs_par_poste.values)\n",
    "\n",
    "# Personnalisation des étiquettes de l'axe des abscisses (X) en les faisant pivoter de 45 degrés\n",
    "plt.xticks(rotation=45, ha='right')\n",
    "\n",
    "# Ajout du titre au graphique\n",
    "plt.title('Distribution : Nombre de joueurs par rapport aux groupes de postes')\n",
    "\n",
    "# Affichage du graphique\n",
    "plt.show()\n"
   ]
  },
  {
   "cell_type": "markdown",
   "id": "c368a0f5",
   "metadata": {},
   "source": [
    "## Fonctions "
   ]
  },
  {
   "cell_type": "code",
   "execution_count": null,
   "id": "400d6738",
   "metadata": {},
   "outputs": [],
   "source": [
    "# Fonction pour grouper et calculer la moyenne des compétences PAR groupe de postes:\n",
    "\n",
    "def moyenne_competences_groupees(GroupPositions=\"\"):\n",
    "    # Récupération de l'index de la première à la dernière compétence dans le DataSet\n",
    "    index_colonne_debut = dataset.columns.get_loc(\"Crossing\")  \n",
    "    index_colonne_fin = dataset.columns.get_loc(\"GKReflexes\")\n",
    "\n",
    "    # Sélection des colonnes des compétences dans le DataSet\n",
    "    colonnes_competences = dataset.columns[index_colonne_debut:index_colonne_fin]\n",
    "\n",
    "    # Filtrage des données du DataSet en fonction du groupe de postes spécifié   \n",
    "    donnees_groupe = dataset[dataset[\"GroupPositions\"]== GroupPositions]     \n",
    "\n",
    "    # Calcule des moyennes des compétences pour le groupe spécifié et trie par ordre décroissant\n",
    "    moyennes_groupe = donnees_groupe[colonnes_competences].mean().sort_values(ascending=False)     \n",
    "\n",
    "    return moyennes_groupe[:7]     # Retourne seulement les 7 premières compétences (les plus élevées)"
   ]
  },
  {
   "cell_type": "code",
   "execution_count": null,
   "id": "fd28f6dd",
   "metadata": {},
   "outputs": [],
   "source": [
    "# Liste des catégories et des compétences associées\n",
    "categories_evaluations = {\n",
    "    \"Offensive\": [\"Crossing\", \"Finishing\", \"Volleys\", \"Dribbling\", \"Curve\", \"FKAccuracy\", \"LongShots\"],\n",
    "    \"Controles\": [\"ShortPassing\", \"LongPassing\", \"BallControl\", \"Vision\"],\n",
    "    \"Vitesse\": [\"Agility\", \"SprintSpeed\", \"Acceleration\"],\n",
    "    \"Force\": [\"Jumping\", \"ShotPower\", \"Stamina\", \"Strength\"],\n",
    "    \"Réactivité\": [\"Reactions\", \"Balance\", \"Aggression\", \"Composure\"],\n",
    "    \"Défense\": [\"Marking\", \"StandingTackle\", \"SlidingTackle\", \"Interceptions\"],\n",
    "    \"Vision\": [\"Positioning\", \"Vision\", \"Penalties\"]\n",
    "}"
   ]
  },
  {
   "cell_type": "code",
   "execution_count": null,
   "id": "4048d11e",
   "metadata": {},
   "outputs": [],
   "source": [
    "# Fonction pour créer le graphique radar pour chaque groupe de postes:\n",
    "\n",
    "def radar(label=\"\", moyenne_geree=[], couleur=\"\"):\n",
    "    # Récupération des catégories d'évaluations à partir du dictionnaire\n",
    "    categories = list(categories_evaluations.keys())\n",
    "\n",
    "    # Nombre de catégories\n",
    "    num_categories = 7\n",
    "\n",
    "    # Calcul des angles pour chaque catégorie\n",
    "    angles = np.linspace(0, 2 * np.pi, num_categories, endpoint=False).tolist()\n",
    "\n",
    "    # Ajout du premier angle à la fin pour fermer le cercle\n",
    "    angles += angles[:1]\n",
    "\n",
    "    # Ajout de la première valeur à la fin pour fermer le polygone\n",
    "    moyenne_geree = np.append(moyenne_geree, moyenne_geree[0])\n",
    "\n",
    "    # Création de la figure et du sous-plot polar\n",
    "    fig, ax = plt.subplots(figsize=(8, 8), subplot_kw=dict(polar=True))\n",
    "\n",
    "    # Traçage de la ligne du graphique radar\n",
    "    ax.plot(angles, moyenne_geree, color=couleur, linewidth=1)\n",
    "\n",
    "    # Remplissage de la zone sous la ligne pour un aspect radar\n",
    "    ax.fill(angles, moyenne_geree, color=couleur, alpha=0.13, label=label)\n",
    "\n",
    "    # Configuration des étiquettes sur l'axe x (catégories)\n",
    "    ax.set_xticks(angles[:-1])\n",
    "    ax.set_xticklabels(categories)\n",
    "\n",
    "    # Ajout d'une légende pour identifier chaque poste\n",
    "    ax.legend(loc='upper right', bbox_to_anchor=(0.1, 0.1))\n",
    "\n",
    "    # Affichage du graphique radar\n",
    "    return plt.show()\n"
   ]
  },
  {
   "cell_type": "code",
   "execution_count": null,
   "id": "3f5371da",
   "metadata": {},
   "outputs": [],
   "source": [
    "# Fonction pour voir la distribution des compétences par groupe de postes:\n",
    "\n",
    "def distribution_moyenne_competences(GroupPositions=\"\"):\n",
    "    # Récupération de l'index de la première compétence à la colonne \"GroupPositions\" dans le DataSet\n",
    "    index_colonne_debut = dataset.columns.get_loc(\"Crossing\")\n",
    "    index_colonne_fin = dataset.columns.get_loc(\"GroupPositions\")\n",
    "\n",
    "    # Sélection des colonnes des compétences dans le DataSet\n",
    "    colonnes_competences = dataset.columns[index_colonne_debut:index_colonne_fin]\n",
    "\n",
    "    # Filtrage des données du DataSet en fonction du groupe de postes spécifié\n",
    "    donnees_poste = dataset[dataset[\"GroupPositions\"]== GroupPositions]\n",
    "\n",
    "    # Calcul des moyennes des compétences pour le groupe spécifié et tri par ordre décroissant\n",
    "    moyennes_compétences = donnees_poste[colonnes_competences].mean().sort_values(ascending=False)\n",
    "\n",
    "    # Traçage d'un graphique à barres pour visualiser la distribution des compétences\n",
    "    sns.barplot(x=moyennes_compétences.index, y=moyennes_compétences.values)\n",
    "\n",
    "    # Personnalisation des étiquettes de l'axe des abscisses (X) en les faisant pivoter de 45 degrés\n",
    "    plt.xticks(rotation=45, ha='right')\n",
    "\n",
    "    # Affichage du graphique\n",
    "    return plt.show()\n"
   ]
  },
  {
   "cell_type": "code",
   "execution_count": null,
   "id": "bc13ca64",
   "metadata": {},
   "outputs": [],
   "source": [
    "# Fonction pour voir la répartition des compétences groupées par groupe de postes:\n",
    "\n",
    "def distribution_competences_groupees(GroupPositions=\"\"):\n",
    "    # Appel de la fonction moyenne_competences_groupees pour obtenir les moyennes des compétences\n",
    "    moyenne = moyenne_competences_groupees(GroupPositions=GroupPositions)\n",
    "\n",
    "    # Traçage d'un graphique à barres pour visualiser la distribution des compétences groupées\n",
    "    sns.barplot(x=moyenne.index, y=moyenne.values)\n",
    "\n",
    "    # Personnalisation des étiquettes d'axe x en les faisant pivoter de 45 degrés \n",
    "    plt.xticks(rotation=45, ha='right')\n",
    "\n",
    "    # Affichage du graphique\n",
    "    return plt.show()\n"
   ]
  },
  {
   "cell_type": "code",
   "execution_count": null,
   "id": "d77f5db1",
   "metadata": {},
   "outputs": [],
   "source": [
    "# Graphiques\n",
    "distribution_moyenne_competences(GroupPositions=\"Striker\")\n",
    "distribution_moyenne_competences(GroupPositions=\"Goalkeeper\")\n",
    "distribution_moyenne_competences(GroupPositions=\"Defensive Midfielder\")\n",
    "distribution_moyenne_competences(GroupPositions=\"Midfielder\")\n",
    "distribution_moyenne_competences(GroupPositions=\"Defender\")\n",
    "distribution_moyenne_competences(GroupPositions=\"Winger\")"
   ]
  },
  {
   "cell_type": "code",
   "execution_count": null,
   "id": "f0650256",
   "metadata": {},
   "outputs": [],
   "source": [
    "# Liste des compétences représentant différentes aspects des joueurs\n",
    "competences = [\"Crossing\", \"Finishing\", \"HeadingAccuracy\", \"ShortPassing\", \"Volleys\", \"Dribbling\",\n",
    "               \"Curve\", \"FKAccuracy\", \"LongPassing\", \"BallControl\", \"Acceleration\", \"SprintSpeed\",\n",
    "               \"Agility\", \"Reactions\", \"Balance\", \"ShotPower\", \"Jumping\", \"Stamina\", \"Strength\",\n",
    "               \"LongShots\", \"Aggression\", \"Interceptions\", \"Positioning\", \"Vision\", \"Penalties\",\n",
    "               \"Composure\", \"Marking\", \"StandingTackle\", \"SlidingTackle\", \"GKDiving\", \"GKHandling\",\n",
    "               \"GKKicking\", \"GKPositioning\", \"GKReflexes\"]\n"
   ]
  },
  {
   "cell_type": "code",
   "execution_count": null,
   "id": "bf1398c1",
   "metadata": {},
   "outputs": [],
   "source": [
    "# Calcul des moyennes des compétences pour chaque groupe de postes\n",
    "moyennes_par_poste = dataset.groupby(\"GroupPositions\")[competences].mean()\n",
    "\n",
    "# Réorganisation des colonnes pour les afficher par ordre décroissant de moyenne\n",
    "moyennes_par_poste = moyennes_par_poste[competences].mean(axis=1).sort_values(ascending=False)"
   ]
  },
  {
   "cell_type": "code",
   "execution_count": null,
   "id": "0f831833",
   "metadata": {},
   "outputs": [],
   "source": [
    "# Création d'un diagramme à barres avec seaborn\n",
    "sns.barplot(x=moyennes_par_poste.index, y=moyennes_par_poste.values)\n",
    "plt.xticks(rotation=45, ha='right')\n",
    "plt.show()"
   ]
  },
  {
   "cell_type": "code",
   "execution_count": null,
   "id": "e1c14dac",
   "metadata": {},
   "outputs": [],
   "source": [
    "# Calcul de la moyenne pour chaque catégorie et ajout des colonnes au DataFrame\n",
    "for categorie, competences in categories_evaluations.items():\n",
    "    dataset[f\"Moyenne_{categorie}\"] = dataset[competences].mean(axis=1)"
   ]
  },
  {
   "cell_type": "code",
   "execution_count": null,
   "id": "cf8bc9bb",
   "metadata": {},
   "outputs": [],
   "source": [
    "# Appels aux fonctions radar et distribution_competences_groupees\n",
    "radar(label=\"Winger\", moyenne_geree=moyenne_competences_groupees(GroupPositions=\"Winger\"), couleur=\"red\")\n",
    "radar(label=\"Defender\", moyenne_geree=moyenne_competences_groupees(GroupPositions=\"Defender\"), couleur=\"purple\")\n",
    "radar(label=\"Striker\", moyenne_geree=moyenne_competences_groupees(GroupPositions=\"Striker\"), couleur=\"green\")\n",
    "radar(label=\"Defensive Midfielder\", moyenne_geree=moyenne_competences_groupees(GroupPositions=\"Defensive Midfielder\"), couleur=\"blue\")\n",
    "radar(label=\"Midfielder\", moyenne_geree=moyenne_competences_groupees(GroupPositions=\"Midfielder\"), couleur=\"black\")"
   ]
  },
  {
   "cell_type": "code",
   "execution_count": null,
   "id": "46ec4bb2",
   "metadata": {},
   "outputs": [],
   "source": [
    "# Graphiques de distribution des compétences groupées par groupe de postes\n",
    "distribution_competences_groupees(GroupPositions=\"Striker\")\n",
    "distribution_competences_groupees(GroupPositions=\"Defensive Midfielder\")\n",
    "distribution_competences_groupees(GroupPositions=\"Winger\")\n",
    "distribution_competences_groupees(GroupPositions=\"Midfielder\")\n",
    "distribution_competences_groupees(GroupPositions=\"Defender\")"
   ]
  }
 ],
 "metadata": {
  "kernelspec": {
   "display_name": "Python 3 (ipykernel)",
   "language": "python",
   "name": "python3"
  },
  "language_info": {
   "codemirror_mode": {
    "name": "ipython",
    "version": 3
   },
   "file_extension": ".py",
   "mimetype": "text/x-python",
   "name": "python",
   "nbconvert_exporter": "python",
   "pygments_lexer": "ipython3",
   "version": "3.12.0"
  }
 },
 "nbformat": 4,
 "nbformat_minor": 5
}
