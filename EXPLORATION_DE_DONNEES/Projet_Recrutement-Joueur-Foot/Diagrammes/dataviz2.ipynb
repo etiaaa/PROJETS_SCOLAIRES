{
 "cells": [
  {
   "cell_type": "markdown",
   "id": "9da67d83",
   "metadata": {},
   "source": [
    "# Importation des bibliothèques"
   ]
  },
  {
   "cell_type": "code",
   "execution_count": null,
   "id": "bd0e1348",
   "metadata": {},
   "outputs": [],
   "source": [
    "# Importation des bibliothèques\n",
    "import pandas as pd\n",
    "import matplotlib.pyplot as plt\n",
    "import seaborn as sns\n",
    "import numpy as np"
   ]
  },
  {
   "cell_type": "markdown",
   "id": "b7056e0d",
   "metadata": {},
   "source": [
    "# Importation des données\n"
   ]
  },
  {
   "cell_type": "code",
   "execution_count": null,
   "id": "48d0a870",
   "metadata": {},
   "outputs": [],
   "source": [
    "# Importation des données\n",
    "dataset = pd.read_excel(\"../DataSet/data_fifa_clean.xlsx\")"
   ]
  },
  {
   "cell_type": "code",
   "execution_count": null,
   "id": "dd41f975",
   "metadata": {},
   "outputs": [],
   "source": [
    "# on lit le dataset\n",
    "dataset"
   ]
  },
  {
   "cell_type": "code",
   "execution_count": null,
   "id": "03878565",
   "metadata": {},
   "outputs": [],
   "source": [
    "# distribution des joueurs par groupes de postes\n",
    "Occurences_joueurs_par_poste = dataset[\"GroupPositions\"].value_counts().sort_values(ascending=False)\n",
    "sns.barplot(x=Occurences_joueurs_par_poste.index, y=Occurences_joueurs_par_poste.values)\n",
    "plt.xticks(rotation=45, ha='right')\n",
    "plt.title('Distribution : Nobre de joueurs par rapport aux groupes de postes')\n",
    "plt.show()\n"
   ]
  },
  {
   "cell_type": "markdown",
   "id": "c368a0f5",
   "metadata": {},
   "source": [
    "## Fonctions "
   ]
  },
  {
   "cell_type": "code",
   "execution_count": null,
   "id": "400d6738",
   "metadata": {},
   "outputs": [],
   "source": [
    "# Fonction pour grouper et calculer la moyenne des compétences par groupe de postes\n",
    "def moyenne_competences_groupees(GroupPositions=\"\"):\n",
    "    index_colonne_debut = dataset.columns.get_loc(\"Crossing\")\n",
    "    index_colonne_fin = dataset.columns.get_loc(\"GKReflexes\")\n",
    "    colonnes_competences = dataset.columns[index_colonne_debut:index_colonne_fin]\n",
    "    donnees_groupe = dataset[dataset[\"GroupPositions\"]== GroupPositions]\n",
    "    moyennes_groupe = donnees_groupe[colonnes_competences].mean().sort_values(ascending=False)\n",
    "    return moyennes_groupe[:7]  # Retourner seulement les 7 premières compétences\n"
   ]
  },
  {
   "cell_type": "code",
   "execution_count": null,
   "id": "fd28f6dd",
   "metadata": {},
   "outputs": [],
   "source": [
    "# Liste des catégories et des compétences associées\n",
    "categories_evaluations = {\n",
    "    \"Offensive\": [\"Crossing\", \"Finishing\", \"Volleys\", \"Dribbling\", \"Curve\", \"FKAccuracy\", \"LongShots\"],\n",
    "    \"Controles\": [\"ShortPassing\", \"LongPassing\", \"BallControl\", \"Vision\"],\n",
    "    \"Vitesse\": [\"Agility\", \"SprintSpeed\", \"Acceleration\"],\n",
    "    \"Force\": [\"Jumping\", \"ShotPower\", \"Stamina\", \"Strength\"],\n",
    "    \"Réactivité\": [\"Reactions\", \"Balance\", \"Aggression\", \"Composure\"],\n",
    "    \"Défense\": [\"Marking\", \"StandingTackle\", \"SlidingTackle\", \"Interceptions\"],\n",
    "    \"Vision\": [\"Positioning\", \"Vision\", \"Penalties\"]\n",
    "}"
   ]
  },
  {
   "cell_type": "code",
   "execution_count": null,
   "id": "4048d11e",
   "metadata": {},
   "outputs": [],
   "source": [
    "# Fonction pour créer le graphique radar pour chaque groupe de postes\n",
    "def radar(label=\"\", moyenne_geree=[], couleur=\"\"):\n",
    "    categories = list(categories_evaluations.keys())\n",
    "    num_categories = 7\n",
    "    angles = np.linspace(0, 2 * np.pi, num_categories, endpoint=False).tolist()\n",
    "    moyenne_geree = np.append(moyenne_geree, moyenne_geree[0])\n",
    "    angles += angles[:1]\n",
    "    fig, ax = plt.subplots(figsize=(8, 8), subplot_kw=dict(polar=True))\n",
    "    ax.plot(angles, moyenne_geree, color=couleur, linewidth=1)\n",
    "    ax.fill(angles, moyenne_geree, color=couleur, alpha=0.13, label=label)\n",
    "    ax.set_xticks(angles[:-1])\n",
    "    ax.set_xticklabels(categories)\n",
    "    ax.legend(loc='upper right', bbox_to_anchor=(0.1, 0.1))\n",
    "    return plt.show()"
   ]
  },
  {
   "cell_type": "code",
   "execution_count": null,
   "id": "3f5371da",
   "metadata": {},
   "outputs": [],
   "source": [
    "# Fonction pour voir la distribution des compétences par groupe de postes\n",
    "def distribution_moyenne_competences(GroupPositions=\"\"):\n",
    "    index_colonne_debut = dataset.columns.get_loc(\"Crossing\")\n",
    "    index_colonne_fin = dataset.columns.get_loc(\"GroupPositions\")\n",
    "    colonnes_competences = dataset.columns[index_colonne_debut:index_colonne_fin]\n",
    "    donnees_poste = dataset[dataset[\"GroupPositions\"]== GroupPositions]\n",
    "    moyennes_compétences = donnees_poste[colonnes_competences].mean().sort_values(ascending=False)\n",
    "    sns.barplot(x=moyennes_compétences.index, y=moyennes_compétences.values)\n",
    "    plt.xticks(rotation=45, ha='right')\n",
    "    return plt.show()"
   ]
  },
  {
   "cell_type": "code",
   "execution_count": null,
   "id": "bc13ca64",
   "metadata": {},
   "outputs": [],
   "source": [
    "# Fonction pour voir la distribution des compétences groupées par groupe de postes\n",
    "def distribution_competences_groupees(GroupPositions=\"\"):\n",
    "    moyenne = moyenne_competences_groupees(GroupPositions=GroupPositions)\n",
    "    sns.barplot(x=moyenne.index, y=moyenne.values)\n",
    "    plt.xticks(rotation=45, ha='right')\n",
    "    return plt.show()"
   ]
  },
  {
   "cell_type": "code",
   "execution_count": null,
   "id": "d77f5db1",
   "metadata": {},
   "outputs": [],
   "source": [
    "# Graphiques\n",
    "distribution_moyenne_competences(GroupPositions=\"Striker\")\n",
    "distribution_moyenne_competences(GroupPositions=\"Goalkeeper\")\n",
    "distribution_moyenne_competences(GroupPositions=\"Defensive Midfielder\")\n",
    "distribution_moyenne_competences(GroupPositions=\"Midfielder\")\n",
    "distribution_moyenne_competences(GroupPositions=\"Defender\")\n",
    "distribution_moyenne_competences(GroupPositions=\"Winger\")"
   ]
  },
  {
   "cell_type": "code",
   "execution_count": null,
   "id": "f0650256",
   "metadata": {},
   "outputs": [],
   "source": [
    "# Les joueurs les plus complets techniquement\n",
    "competences = [\"Crossing\", \"Finishing\", \"HeadingAccuracy\", \"ShortPassing\", \"Volleys\", \"Dribbling\",\n",
    "               \"Curve\", \"FKAccuracy\", \"LongPassing\", \"BallControl\", \"Acceleration\", \"SprintSpeed\",\n",
    "               \"Agility\", \"Reactions\", \"Balance\", \"ShotPower\", \"Jumping\", \"Stamina\", \"Strength\",\n",
    "               \"LongShots\", \"Aggression\", \"Interceptions\", \"Positioning\", \"Vision\", \"Penalties\",\n",
    "               \"Composure\", \"Marking\", \"StandingTackle\", \"SlidingTackle\", \"GKDiving\", \"GKHandling\",\n",
    "               \"GKKicking\", \"GKPositioning\", \"GKReflexes\"]\n"
   ]
  },
  {
   "cell_type": "code",
   "execution_count": null,
   "id": "bf1398c1",
   "metadata": {},
   "outputs": [],
   "source": [
    "# Calculer les moyennes des compétences pour chaque groupe de postes\n",
    "moyennes_par_poste = dataset.groupby(\"GroupPositions\")[competences].mean()\n",
    "\n",
    "# Réorganiser les colonnes pour les afficher par ordre décroissant de moyenne\n",
    "moyennes_par_poste = moyennes_par_poste[competences].mean(axis=1).sort_values(ascending=False)"
   ]
  },
  {
   "cell_type": "code",
   "execution_count": null,
   "id": "0f831833",
   "metadata": {},
   "outputs": [],
   "source": [
    "# Créer un diagramme à barres avec seaborn\n",
    "sns.barplot(x=moyennes_par_poste.index, y=moyennes_par_poste.values)\n",
    "plt.xticks(rotation=45, ha='right')\n",
    "plt.show()"
   ]
  },
  {
   "cell_type": "code",
   "execution_count": null,
   "id": "e1c14dac",
   "metadata": {},
   "outputs": [],
   "source": [
    "# Calculer la moyenne pour chaque catégorie et ajouter les colonnes au DataFrame\n",
    "for categorie, competences in categories_evaluations.items():\n",
    "    dataset[f\"Moyenne_{categorie}\"] = dataset[competences].mean(axis=1)"
   ]
  },
  {
   "cell_type": "code",
   "execution_count": null,
   "id": "cf8bc9bb",
   "metadata": {},
   "outputs": [],
   "source": [
    "# Appels aux fonctions radar et distribution_competences_groupees\n",
    "radar(label=\"Winger\", moyenne_geree=moyenne_competences_groupees(GroupPositions=\"Winger\"), couleur=\"red\")\n",
    "radar(label=\"Defender\", moyenne_geree=moyenne_competences_groupees(GroupPositions=\"Defender\"), couleur=\"purple\")\n",
    "radar(label=\"Striker\", moyenne_geree=moyenne_competences_groupees(GroupPositions=\"Striker\"), couleur=\"green\")\n",
    "radar(label=\"Defensive Midfielder\", moyenne_geree=moyenne_competences_groupees(GroupPositions=\"Defensive Midfielder\"), couleur=\"blue\")\n",
    "radar(label=\"Midfielder\", moyenne_geree=moyenne_competences_groupees(GroupPositions=\"Midfielder\"), couleur=\"black\")"
   ]
  },
  {
   "cell_type": "code",
   "execution_count": null,
   "id": "46ec4bb2",
   "metadata": {},
   "outputs": [],
   "source": [
    "distribution_competences_groupees(GroupPositions=\"Striker\")\n",
    "distribution_competences_groupees(GroupPositions=\"Defensive Midfielder\")\n",
    "distribution_competences_groupees(GroupPositions=\"Winger\")\n",
    "distribution_competences_groupees(GroupPositions=\"Midfielder\")\n",
    "distribution_competences_groupees(GroupPositions=\"Defender\")"
   ]
  }
 ],
 "metadata": {
  "kernelspec": {
   "display_name": "Python 3 (ipykernel)",
   "language": "python",
   "name": "python3"
  },
  "language_info": {
   "codemirror_mode": {
    "name": "ipython",
    "version": 3
   },
   "file_extension": ".py",
   "mimetype": "text/x-python",
   "name": "python",
   "nbconvert_exporter": "python",
   "pygments_lexer": "ipython3",
   "version": "3.12.0"
  }
 },
 "nbformat": 4,
 "nbformat_minor": 5
}
