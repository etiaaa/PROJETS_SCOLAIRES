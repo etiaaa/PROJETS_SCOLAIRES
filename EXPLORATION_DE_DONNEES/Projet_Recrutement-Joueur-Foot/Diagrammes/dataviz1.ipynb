{
 "cells": [
  {
   "cell_type": "code",
   "execution_count": null,
   "id": "84cbe076",
   "metadata": {},
   "outputs": [],
   "source": [
    "import pandas as pd\n",
    "import matplotlib.pyplot as plt\n",
    "import seaborn as sns\n",
    "from matplotlib.colors import Normalize\n",
    "from matplotlib.cm import viridis"
   ]
  },
  {
   "cell_type": "code",
   "execution_count": null,
   "id": "050b7b60",
   "metadata": {},
   "outputs": [],
   "source": [
    "# Charger les données depuis le fichier Excel\n",
    "excel_file_path = '../DataSet/data_fifa_clean.xlsx'\n",
    "df = pd.read_excel(excel_file_path)"
   ]
  },
  {
   "cell_type": "code",
   "execution_count": null,
   "id": "396f30fb",
   "metadata": {},
   "outputs": [],
   "source": [
    "# Graphique 1 : Moyenne d'âge des joueurs par poste\n",
    "def age_moyen_par_poste():\n",
    "    age_moyen_par_poste = df.groupby('Position')['Age'].mean().sort_values(ascending=False)\n",
    "    plt.figure(figsize=(12, 10))\n",
    "    ax = sns.boxplot(x='Position', y='Age', data=df, palette='Set2')\n",
    "    ax.set_title('Moyenne d\\'âge des joueurs par poste')\n",
    "    ax.set_xlabel('Poste')\n",
    "    ax.set_ylabel('Âge')\n",
    "    plt.yticks(range(int(df['Age'].min()), int(df['Age'].max()) + 1))\n",
    "    plt.xticks(rotation=45, ha='right')\n",
    "    plt.tight_layout()\n",
    "    plt.show()"
   ]
  },
  {
   "cell_type": "code",
   "execution_count": null,
   "id": "6ac64fd0",
   "metadata": {},
   "outputs": [],
   "source": [
    "# Graphique 2 : Évolution moyenne des salaires en fonction de l'ancienneté\n",
    "def evolution_salaire_anciennete():\n",
    "    plt.figure(figsize=(12, 6))\n",
    "    sns.lineplot(x='Age', y='Wage', data=df, ci=None, color='purple', marker='o')\n",
    "    plt.title('Évolution Moyenne des Salaires en Fonction de l\\'Ancienneté')\n",
    "    plt.xlabel('Âge du Joueur')\n",
    "    plt.ylabel('Salaire Moyen (Wage)')\n",
    "    plt.yticks(range(0, 20001, 500))\n",
    "    plt.tight_layout()\n",
    "    plt.show()"
   ]
  },
  {
   "cell_type": "code",
   "execution_count": null,
   "id": "594655fe",
   "metadata": {},
   "outputs": [],
   "source": [
    "# Graphique 3 : Répartition des joueurs par pied préféré\n",
    "def repartition_pied_prefere():\n",
    "    pied_counts = df['Preferred Foot'].value_counts()\n",
    "    colors = ['#FF9999', '#66B2FF']\n",
    "    explode = (0.1, 0)\n",
    "    plt.figure(figsize=(10, 8))\n",
    "    plt.pie(pied_counts, labels=pied_counts.index, autopct='%1.1f%%', startangle=140, colors=colors, explode=explode, shadow=True)\n",
    "    centre_cercle = plt.Circle((0, 0), 0.70, fc='white')\n",
    "    fig = plt.gcf()\n",
    "    fig.gca().add_artist(centre_cercle)\n",
    "    plt.title('Répartition des Joueurs par Pied Préféré', fontsize=16)\n",
    "    plt.show()"
   ]
  },
  {
   "cell_type": "code",
   "execution_count": null,
   "id": "4800198b",
   "metadata": {},
   "outputs": [],
   "source": [
    "# Graphique 4 : Corrélation entre Nationalité et Somme des Compétences des Joueurs\n",
    "def correlation_nationalite_competences():\n",
    "    competences = ['Crossing', 'Finishing', 'HeadingAccuracy', 'ShortPassing', 'Volleys', 'Dribbling',\n",
    "                   'Curve', 'FKAccuracy', 'LongPassing', 'BallControl', 'Acceleration', 'SprintSpeed',\n",
    "                   'Agility', 'Reactions', 'Balance', 'ShotPower', 'Jumping', 'Stamina', 'Strength',\n",
    "                   'LongShots', 'Aggression', 'Interceptions', 'Positioning', 'Vision', 'Penalties',\n",
    "                   'Composure', 'Marking', 'StandingTackle', 'SlidingTackle']\n",
    "    df['TotalCompetences'] = df[competences].sum(axis=1)\n",
    "    top_20_nationalites = df['Nationality'].value_counts().head(20).index\n",
    "    df_top_20 = df[df['Nationality'].isin(top_20_nationalites)]\n",
    "    norm = Normalize(vmin=df_top_20['TotalCompetences'].min(), vmax=df_top_20['TotalCompetences'].max())\n",
    "    colors = viridis(norm(df_top_20['TotalCompetences']))\n",
    "    plt.figure(figsize=(16, 10))\n",
    "    plt.scatter(df_top_20['Nationality'], df_top_20['TotalCompetences'], alpha=0.5, c=colors, edgecolors='w', linewidth=0.5)\n",
    "    plt.xlabel('Nationalité', fontsize=14)\n",
    "    plt.ylabel('Somme des Compétences', fontsize=14)\n",
    "    plt.title('Corrélation entre Nationalité et Somme des Compétences des Joueurs (Top 20 Nationalités)', fontsize=16)\n",
    "    plt.xticks(rotation=45, ha='right')\n",
    "    plt.tight_layout()\n",
    "    plt.show()"
   ]
  },
  {
   "cell_type": "code",
   "execution_count": null,
   "id": "ae8253f7",
   "metadata": {},
   "outputs": [],
   "source": [
    "# Graphique 5 : Répartition des joueurs par nationalité (Top 10)\n",
    "def repartition_joueurs_par_nationalite():\n",
    "    nationalite_counts = df['Nationality'].value_counts().head(10)\n",
    "    plt.figure(figsize=(10, 10))\n",
    "    plt.pie(nationalite_counts, labels=nationalite_counts.index, autopct='%1.1f%%', startangle=140, colors=plt.cm.Paired.colors)\n",
    "    plt.title('Répartition des Joueurs par Nationalité (Top 10)')\n",
    "    plt.show()"
   ]
  },
  {
   "cell_type": "code",
   "execution_count": null,
   "id": "f542e32f",
   "metadata": {},
   "outputs": [],
   "source": [
    "# Graphique 6 : Classement des 20 joueurs les plus populaires par pays\n",
    "def classement_joueurs_populaires():\n",
    "    df_sorted = df.sort_values('International Reputation', ascending=False)\n",
    "    top_players_by_nationality = df_sorted.groupby('Nationality').head(1).head(20)\n",
    "    plt.figure(figsize=(12, 6))\n",
    "    plt.bar(top_players_by_nationality['Name'] + ' (' + top_players_by_nationality['Nationality'] + ')',\n",
    "            top_players_by_nationality['International Reputation'], color='orange')\n",
    "    plt.title('Classement des 20 Joueurs les Plus Populaires par Pays')\n",
    "    plt.xlabel('Joueur')\n",
    "    plt.ylabel('Popularité (International Reputation)')\n",
    "    plt.xticks(rotation=45, ha='right')\n",
    "    plt.tight_layout()\n",
    "    plt.show()"
   ]
  },
  {
   "cell_type": "code",
   "execution_count": null,
   "id": "426143b2",
   "metadata": {},
   "outputs": [],
   "source": [
    "# Graphique 7 : Vue globale du nombre de joueurs par poste\n",
    "def vue_globale_nombre_joueurs_par_poste():\n",
    "    poste_counts = df['Position'].value_counts()\n",
    "    plt.figure(figsize=(10, 6))\n",
    "    poste_counts.plot(kind='bar', color='firebrick')\n",
    "    plt.title('Vue globale du nombre de joueurs par poste')\n",
    "    plt.xlabel('Poste')\n",
    "    plt.ylabel('Nombre de Joueurs')\n",
    "    plt.xticks(rotation=45, ha='right')\n",
    "    plt.tight_layout()\n",
    "    plt.show()"
   ]
  },
  {
   "cell_type": "code",
   "execution_count": null,
   "id": "54db7379",
   "metadata": {},
   "outputs": [],
   "source": [
    "# Graphique 8 : Les 11 joueurs les plus légers par pays - Diagramme de Barres Horizontal\n",
    "def joueurs_plus_leger_par_pays():\n",
    "    df_taille_poids = df[['Nationality', 'Name', 'Height', 'Weight']]\n",
    "    df_taille_poids = df_taille_poids.sort_values(by=['Nationality', 'Weight'])\n",
    "    df_top_leger_par_pays = df_taille_poids.groupby('Nationality').head(11)\n",
    "    plt.figure(figsize=(12, 25))\n",
    "    sns.barplot(x='Weight', y='Nationality', data=df_top_leger_par_pays, palette='viridis', ci=None)\n",
    "    plt.xlabel('Poids (kg)', fontsize=14)\n",
    "    plt.ylabel('Nationalité', fontsize=14)\n",
    "    plt.title('Les 11 Joueurs les Plus Légers par Pays - Diagramme de Barres Horizontal', fontsize=16)\n",
    "    plt.tight_layout()\n",
    "    plt.show()"
   ]
  },
  {
   "cell_type": "code",
   "execution_count": null,
   "id": "2386b0e6",
   "metadata": {},
   "outputs": [],
   "source": [
    "# Graphique 9 : Compétences moyennes par poste - Diagramme en Barres Groupées\n",
    "def competences_moyennes_par_poste():\n",
    "    competences = ['Crossing', 'Finishing', 'HeadingAccuracy', 'ShortPassing', 'Volleys', 'Dribbling', 'Curve',\n",
    "                   'FKAccuracy', 'LongPassing', 'BallControl', 'Acceleration', 'SprintSpeed', 'Agility', 'Reactions',\n",
    "                   'Balance', 'ShotPower', 'Jumping', 'Stamina', 'Strength', 'LongShots']\n",
    "    df_comp_par_poste = df.groupby('Position')[competences].mean().reset_index()\n",
    "    bar_width = 0.15\n",
    "    bar_positions = range(len(df_comp_par_poste))\n",
    "    plt.figure(figsize=(30, 8))\n",
    "    for i, competence in enumerate(competences):\n",
    "        plt.bar(\n",
    "            [pos + i * bar_width for pos in bar_positions],\n",
    "            df_comp_par_poste[competence],\n",
    "            width=bar_width,\n",
    "            label=competence\n",
    "        )\n",
    "    plt.xlabel('Poste')\n",
    "    plt.ylabel('Compétences Moyennes')\n",
    "    plt.title('Compétences Moyennes par Poste - Diagramme en Barres Groupées')\n",
    "    plt.xticks([pos + (len(competences) - 1) * bar_width / 2 for pos in bar_positions], df_comp_par_poste['Position'])\n",
    "    plt.legend()\n",
    "    plt.show()"
   ]
  },
  {
   "cell_type": "code",
   "execution_count": null,
   "id": "5eca92c8",
   "metadata": {},
   "outputs": [],
   "source": [
    "# Graphique 10 : Top 10 des meilleurs buteurs\n",
    "def top_buteurs():\n",
    "    top_10_buteurs = df.nlargest(20, 'Finishing')\n",
    "    plt.figure(figsize=(10, 6))\n",
    "    bars = plt.bar(top_10_buteurs['Name'], top_10_buteurs['Finishing'], color='darkseagreen')\n",
    "    for bar, buts in zip(bars, top_10_buteurs['Finishing']):\n",
    "        plt.text(bar.get_x() + bar.get_width() / 2, bar.get_height() + 0.2,\n",
    "                 f'({buts})', ha='center', va='bottom')\n",
    "    plt.xlabel('Joueurs')\n",
    "    plt.ylabel('Nombre de buts')\n",
    "    plt.title('Top 10 des Meilleurs Buteurs')\n",
    "    plt.xticks(rotation=45, ha='right')\n",
    "    plt.show()"
   ]
  },
  {
   "cell_type": "code",
   "execution_count": null,
   "id": "b863d2d8",
   "metadata": {},
   "outputs": [],
   "source": [
    "# Appeler les fonctions restantes dans l'ordre souhaité\n",
    "age_moyen_par_poste()\n",
    "evolution_salaire_anciennete()\n",
    "repartition_pied_prefere()\n",
    "correlation_nationalite_competences()\n",
    "repartition_joueurs_par_nationalite()\n",
    "classement_joueurs_populaires()\n",
    "vue_globale_nombre_joueurs_par_poste()\n",
    "joueurs_plus_leger_par_pays()\n",
    "competences_moyennes_par_poste()\n",
    "top_buteurs()"
   ]
  }
 ],
 "metadata": {
  "kernelspec": {
   "display_name": "Python 3 (ipykernel)",
   "language": "python",
   "name": "python3"
  },
  "language_info": {
   "codemirror_mode": {
    "name": "ipython",
    "version": 3
   },
   "file_extension": ".py",
   "mimetype": "text/x-python",
   "name": "python",
   "nbconvert_exporter": "python",
   "pygments_lexer": "ipython3",
   "version": "3.12.0"
  }
 },
 "nbformat": 4,
 "nbformat_minor": 5
}
