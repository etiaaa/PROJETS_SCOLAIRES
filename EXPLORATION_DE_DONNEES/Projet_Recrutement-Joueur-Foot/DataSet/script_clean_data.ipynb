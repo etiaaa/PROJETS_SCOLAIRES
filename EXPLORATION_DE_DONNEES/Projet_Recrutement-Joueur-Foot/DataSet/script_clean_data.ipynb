{
 "cells": [
  {
   "cell_type": "code",
   "execution_count": null,
   "id": "8101f155",
   "metadata": {},
   "outputs": [],
   "source": [
    "import pandas as pd\n",
    "import matplotlib.pyplot as plt\n",
    "import missingno as msno  \n",
    "import re"
   ]
  },
  {
   "cell_type": "code",
   "execution_count": null,
   "id": "78e3571f",
   "metadata": {},
   "outputs": [],
   "source": [
    "# Lecture du fichier Excel\n",
    "donnees_fifa = pd.read_excel(\"./fifa_data.xlsx\")"
   ]
  },
  {
   "cell_type": "code",
   "execution_count": null,
   "id": "a3dedd1f",
   "metadata": {},
   "outputs": [],
   "source": [
    "# Nettoyage et traitement de DATA\n",
    "donnees_fifa.tail()"
   ]
  },
  {
   "cell_type": "code",
   "execution_count": null,
   "id": "f7310c7f",
   "metadata": {},
   "outputs": [],
   "source": [
    "# Affichage de la matrice de valeurs manquantes avec noms de colonnes\n",
    "msno.matrix(donnees_fifa)"
   ]
  },
  {
   "cell_type": "code",
   "execution_count": null,
   "id": "76ce7eda",
   "metadata": {},
   "outputs": [],
   "source": [
    "# Récupérer les noms de colonnes\n",
    "noms_colonnes = donnees_fifa.columns\n",
    "\n",
    "# Personnaliser l'affichage en ajoutant les noms de colonnes à l'en-tête\n",
    "plt.title(\"Matrice de valeurs manquantes avec noms de colonnes\")\n",
    "plt.xlabel(\"Colonnes\")\n",
    "plt.ylabel(\"Lignes\")\n",
    "plt.xticks(ticks=range(len(noms_colonnes)), labels=noms_colonnes, rotation=90)\n",
    "\n",
    "# Afficher le graphique\n",
    "plt.show()"
   ]
  },
  {
   "cell_type": "code",
   "execution_count": null,
   "id": "a8f31985",
   "metadata": {},
   "outputs": [],
   "source": [
    "# Supprimer les colonnes spécifiées\n",
    "donnees_fifa = donnees_fifa.drop(columns=[\"Unnamed: 89\",\"Joined\",\"Contract Valid Until\", \"Release Clause\", \"Photo\", \n",
    "                                          \"Flag\", \"Club Logo\",\"Real Face\", \"Loaned From\", \"Special\",\"Unnamed: 0\",\n",
    "                                          \"Jersey Number\", \"Value\", \"LS\", \"ST\", \"RS\", \"LW\", \"LF\", \"CF\", \"RF\", \"RW\",\n",
    "                                          \"LAM\", \"CAM\", \"RAM\", \"LM\", \"LCM\", \"CM\", \"RCM\", \"RM\", \"LWB\", \"LDM\", \"CDM\", \n",
    "                                          \"RDM\", \"RWB\", \"LB\", \"LCB\", \"CB\", \"RCB\", \"RB\",], axis=1)\n",
    "\n",
    "\n",
    "# Afficher la nouvelle matrice de valeurs manquantes\n",
    "msno.matrix(donnees_fifa)"
   ]
  },
  {
   "cell_type": "code",
   "execution_count": null,
   "id": "5a8ef050",
   "metadata": {},
   "outputs": [],
   "source": [
    "# Recherche des doublons\n",
    "donnees_fifa.duplicated().sum()\n",
    "\n",
    "# Supprimer les lignes vides\n",
    "donnees = donnees_fifa.dropna(subset=['Preferred Foot',\"Position\"]) \n",
    "\n",
    "# Supprimer les lignes dont les postes ne sont pas mentionnés\n",
    "donnees = donnees.drop(donnees[donnees[\"Position\"] == \"No\"].index)\n",
    "\n",
    "# Afficher la nouvelle matrice de valeurs manquantes\n",
    "msno.matrix(donnees)"
   ]
  },
  {
   "cell_type": "code",
   "execution_count": null,
   "id": "56548e78",
   "metadata": {},
   "outputs": [],
   "source": [
    "# Afficher les différents postes avec leurs occurrences\n",
    "occurrences = donnees['Position'].value_counts()"
   ]
  },
  {
   "cell_type": "code",
   "execution_count": null,
   "id": "17621cfd",
   "metadata": {},
   "outputs": [],
   "source": [
    "# Trier les occurrences par ordre décroissant\n",
    "occurrences = occurrences.sort_values(ascending=False)\n",
    "\n",
    "plt.figure(figsize=(18, 10))\n",
    "plt.bar(occurrences.index, occurrences, color='skyblue', edgecolor='black')\n",
    "\n",
    "# Vérifier le nombre de datas vides dans la colonne Club\n",
    "print(donnees['Club'].isna().sum())\n",
    "donnees.info()"
   ]
  },
  {
   "cell_type": "code",
   "execution_count": null,
   "id": "bbe0b0fb",
   "metadata": {},
   "outputs": [],
   "source": [
    "# Substituer les postes du milieu de terrain\n",
    "donnees.loc[:, \"Position\"] = donnees[\"Position\"].replace({\"CAM\":\"CM\", \"CDM\":\"CM\", \"RCM\":\"RM\", \"RAM\":\"RM\",\"LCM\":\"LM\", \"LAM\":\"LM\"})\n",
    "\n",
    "# Substituer les postes de la défense \n",
    "donnees.loc[:, \"Position\"] = donnees[\"Position\"].replace({\"RCB\": \"RB\", \"RWB\": \"RB\",\"LCB\": \"LB\", \"LWB\": \"LB\"})\n",
    "\n",
    "# Substituer les postes de l'attaque \n",
    "donnees.loc[:, \"Position\"] = donnees[\"Position\"].replace({\"CF\": \"ST\",\"RS\": \"ST\", \"LS\": \"ST\",\"LF\": \"ST\", \"RF\": \"ST\"})\n",
    "\n",
    "# Création de la colonne Groupe de poste\n",
    "donnees['GroupPositions'] = \"\"\n",
    "\n",
    "# Remplir la colonne de façon conditionnelle\n",
    "donnees.loc[donnees[\"Position\"]== \"GK\" , \"GroupPositions\"] = \"Goalkeeper\"\n",
    "donnees.loc[donnees[\"Position\"]== \"ST\" , \"GroupPositions\"] = \"Striker\"\n",
    "donnees.loc[donnees[\"Position\"].isin([\"CB\",\"RB\",\"LB\"]), \"GroupPositions\"] = \"Defender\"\n",
    "donnees.loc[donnees[\"Position\"].isin([\"CM\",\"RM\",\"LM\"]), \"GroupPositions\"] = \"Midfielder\"\n",
    "donnees.loc[donnees[\"Position\"].isin([\"RDM\",\"LDM\"]), \"GroupPositions\"] = \"Defensive Midfielder\"\n",
    "donnees.loc[donnees[\"Position\"].isin([\"RW\",\"LW\"]), \"GroupPositions\"] = \"Winger\""
   ]
  },
  {
   "cell_type": "code",
   "execution_count": null,
   "id": "6063b788",
   "metadata": {},
   "outputs": [],
   "source": [
    "# Renommer les abréviations de la colonne Position\n",
    "position_mapping = {\n",
    "    'ST': 'Striker',\n",
    "    'CF': 'Center Forward',\n",
    "    'LW': 'Left Winger',\n",
    "    'RW': 'Right Winger',\n",
    "    'CM': 'Central Midfielder',\n",
    "    'CDM': 'Central Defensive Midfielder',\n",
    "    'CAM': 'Central Attacking Midfielder',\n",
    "    'LM': 'Left Midfielder',\n",
    "    'RM': 'Right Midfielder',\n",
    "    'CB': 'Center Back',\n",
    "    'LB': 'Left Back',\n",
    "    'RB': 'Right Back',\n",
    "    'LWB': 'Left Wing Back',\n",
    "    'RWB': 'Right Wing Back',\n",
    "    'LS': 'Left Striker',\n",
    "    'RS': 'Right Striker',\n",
    "    'LCM': 'Left Central Midfielder',\n",
    "    'RCM': 'Right Central Midfielder',\n",
    "    'LDM': 'Left Defensive Midfielder',\n",
    "    'RDM': 'Right Defensive Midfielder',\n",
    "    'LF': 'Left Forward',\n",
    "    'RF': 'Right Forward',\n",
    "    'LAM': 'Left Attacking Midfielder',\n",
    "    'RAM': 'Right Attacking Midfielder',\n",
    "}\n",
    "donnees['Position'] = donnees['Position'].map(position_mapping)\n"
   ]
  },
  {
   "cell_type": "code",
   "execution_count": null,
   "id": "9dd1ae83",
   "metadata": {},
   "outputs": [],
   "source": [
    "# Supprimer l'unité de mesure et convertir en float pour la colonne Crossing\n",
    "donnees['Crossing'] = pd.to_numeric(donnees['Crossing'], errors='coerce', downcast='integer')"
   ]
  },
  {
   "cell_type": "code",
   "execution_count": null,
   "id": "b5d96855",
   "metadata": {},
   "outputs": [],
   "source": [
    "# Supprimer l'unité de mesure et convertir en float pour la colonne Weight\n",
    "donnees[\"Weight\"] = donnees[\"Weight\"].astype(str).str.replace(\"lbs\", \"\").astype(float)\n",
    "\n",
    "# Convertir le poids en kilogrammes\n",
    "donnees[\"Weight\"] = donnees[\"Weight\"] * 0.454"
   ]
  },
  {
   "cell_type": "code",
   "execution_count": null,
   "id": "e1206a87",
   "metadata": {},
   "outputs": [],
   "source": [
    "# Supprimer l'unité de mesure et convertir en float pour la colonne Height\n",
    "donnees[\"Height\"] = donnees[\"Height\"].astype(str).str.extract('(\\d+)').astype(float)\n",
    "\n",
    "# Convertir la hauteur en mètres\n",
    "donnees[\"Height\"] = donnees[\"Height\"] * 0.3048"
   ]
  },
  {
   "cell_type": "code",
   "execution_count": null,
   "id": "c80410d8",
   "metadata": {},
   "outputs": [],
   "source": [
    "# Repérer les données incorrectes dans la colonne Wage\n",
    "i = 0\n",
    "for element in donnees[\"Wage\"]:\n",
    "    if re.fullmatch(\"(€[0-9]{1}K|€[0-9]{3}K|€[0-9]{2}K|€[0-9]{1})\", str(element)):\n",
    "        i += 1\n",
    "    else:\n",
    "        print(element)\n",
    "\n",
    "# on extrait les chiffres du motif recherché et on change le type de la colonne \n",
    "donnees[\"Wage\"] = donnees[\"Wage\"].str.extract('(\\d+)').astype(int) * 1000"
   ]
  },
  {
   "cell_type": "code",
   "execution_count": null,
   "id": "c82aeb2e",
   "metadata": {},
   "outputs": [],
   "source": [
    "# Repérer les données incorrectes dans la colonne International Reputation\n",
    "i = 0\n",
    "for element in donnees[\"International Reputation\"]:\n",
    "    if re.fullmatch(\"([0-9]{1})\", str(element)):\n",
    "        i += 1\n",
    "    else:\n",
    "        print(element)\n",
    "\n",
    "# Changer le type de la colonne\n",
    "donnees['International Reputation'] = pd.to_numeric(donnees['International Reputation'], errors='coerce').fillna(0).astype(int)\n",
    "\n",
    "# Changer le type de la colonne\n",
    "donnees['International Reputation'] = donnees['International Reputation'].astype(int)"
   ]
  },
  {
   "cell_type": "code",
   "execution_count": null,
   "id": "6b6843c5",
   "metadata": {},
   "outputs": [],
   "source": [
    "# Repérer les données incorrectes dans la colonne Body Type\n",
    "i = 0\n",
    "for element in donnees[\"Body Type\"]:\n",
    "    if element in [\"Normal\",\"Lean\",\"Stocky\"] : \n",
    "        i += 1\n",
    "    else: \n",
    "        print(element)\n",
    "\n",
    "# Corriger les irrégularités\n",
    "donnees.loc[~donnees[\"Body Type\"].isin([\"Normal\",\"Lean\",\"Stocky\"]), \"Body Type\"] = \"Normal\""
   ]
  },
  {
   "cell_type": "code",
   "execution_count": null,
   "id": "da0156f6",
   "metadata": {},
   "outputs": [],
   "source": [
    "# Exportation du dataset clean\n",
    "donnees.to_excel(\"../DataSet/data_fifa_clean.xlsx\", index=False)"
   ]
  }
 ],
 "metadata": {
  "kernelspec": {
   "display_name": "Python 3 (ipykernel)",
   "language": "python",
   "name": "python3"
  },
  "language_info": {
   "codemirror_mode": {
    "name": "ipython",
    "version": 3
   },
   "file_extension": ".py",
   "mimetype": "text/x-python",
   "name": "python",
   "nbconvert_exporter": "python",
   "pygments_lexer": "ipython3",
   "version": "3.12.0"
  }
 },
 "nbformat": 4,
 "nbformat_minor": 5
}
